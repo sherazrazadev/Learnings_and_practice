{
 "cells": [
  {
   "cell_type": "code",
   "execution_count": 1,
   "id": "7631b715-1bf6-4c79-b6ff-0ee2be0de038",
   "metadata": {},
   "outputs": [
    {
     "data": {
      "text/plain": [
       "[['here', 4], ['is', 2], ['a', 1], ['sentences', 9]]"
      ]
     },
     "execution_count": 1,
     "metadata": {},
     "output_type": "execute_result"
    }
   ],
   "source": [
    "words = \"here is a sentences\".split()\n",
    "[[word, len(word)] for word in words]\n"
   ]
  },
  {
   "cell_type": "code",
   "execution_count": 8,
   "id": "8d8f3b47-c1ef-4a61-9f85-a5897143ab3d",
   "metadata": {},
   "outputs": [
    {
     "data": {
      "text/plain": [
       "'hello world'"
      ]
     },
     "execution_count": 8,
     "metadata": {},
     "output_type": "execute_result"
    }
   ],
   "source": [
    "def greeting(language):\n",
    "    if language== 'eng':\n",
    "        return 'hello world'\n",
    "    if language == 'fr':\n",
    "        return 'Bonjour le monde'\n",
    "    else: return 'language not supported'\n",
    "\n",
    "greeting('eng')"
   ]
  },
  {
   "cell_type": "code",
   "execution_count": 9,
   "id": "607cc469-3dc5-4f5a-8d23-bedd2a72ccf9",
   "metadata": {},
   "outputs": [
    {
     "data": {
      "text/plain": [
       "'Bonjour le monde'"
      ]
     },
     "execution_count": 9,
     "metadata": {},
     "output_type": "execute_result"
    }
   ],
   "source": [
    "def greeting(language):\n",
    "    if language== 'eng':\n",
    "        return 'hello world'\n",
    "    if language == 'fr':\n",
    "        return 'Bonjour le monde'\n",
    "    else: return 'language not supported'\n",
    "\n",
    "l = [greeting('eng'), greeting('fr') , greeting('ger')]\n",
    "l[1]\n"
   ]
  },
  {
   "cell_type": "code",
   "execution_count": 12,
   "id": "3216abb5-7564-4eb5-89fb-7d31e4380d95",
   "metadata": {},
   "outputs": [
    {
     "data": {
      "text/plain": [
       "<generator object <genexpr> at 0x000002B6C13F5A80>"
      ]
     },
     "execution_count": 12,
     "metadata": {},
     "output_type": "execute_result"
    }
   ],
   "source": [
    "list1 = [1, 2,3,4]\n",
    "gen1 = (10**i for i in list1)\n",
    "gen1"
   ]
  },
  {
   "cell_type": "code",
   "execution_count": 13,
   "id": "4e8cc7a5-9bd3-4f79-a28f-f43ce8e725e0",
   "metadata": {},
   "outputs": [
    {
     "name": "stdout",
     "output_type": "stream",
     "text": [
      "10\n",
      "100\n",
      "1000\n",
      "10000\n"
     ]
    }
   ],
   "source": [
    "for x in gen1: print(x)"
   ]
  },
  {
   "cell_type": "markdown",
   "id": "1c474e1c",
   "metadata": {},
   "source": [
    "#### OOP"
   ]
  },
  {
   "cell_type": "code",
   "execution_count": 5,
   "id": "ab37c50f-cc73-40f0-98c6-dee25deb1276",
   "metadata": {},
   "outputs": [
    {
     "name": "stdout",
     "output_type": "stream",
     "text": [
      "Bark\n",
      "Meow\n"
     ]
    }
   ],
   "source": [
    "\n",
    "# Abstraction\n",
    "from abc import ABC, abstractmethod\n",
    "\n",
    "class Animal(ABC):\n",
    "    @abstractmethod\n",
    "    def sound(self):\n",
    "        pass\n",
    "\n",
    "class Dog(Animal):\n",
    "    def sound(self):\n",
    "        return \"Bark\"\n",
    "\n",
    "class Cat(Animal):\n",
    "    def sound(self):\n",
    "        return \"Meow\"\n",
    "\n",
    "# Example usage\n",
    "dog = Dog()\n",
    "cat = Cat()\n",
    "print(dog.sound())  # Output: Bark\n",
    "print(cat.sound())  # Output: Meow\n"
   ]
  },
  {
   "cell_type": "code",
   "execution_count": 6,
   "id": "5d28c320",
   "metadata": {},
   "outputs": [
    {
     "name": "stdout",
     "output_type": "stream",
     "text": [
      "120\n"
     ]
    }
   ],
   "source": [
    "#encapsulation\n",
    "\n",
    "class BankAccount:\n",
    "    def __init__(self, balance):\n",
    "        self.__balance = balance  # Private attribute\n",
    "\n",
    "    def deposit(self, amount):\n",
    "        if amount > 0:\n",
    "            self.__balance += amount\n",
    "\n",
    "    def withdraw(self, amount):\n",
    "        if 0 < amount <= self.__balance:\n",
    "            self.__balance -= amount\n",
    "\n",
    "    def get_balance(self):\n",
    "        return self.__balance\n",
    "\n",
    "# Example usage\n",
    "account = BankAccount(100)\n",
    "account.deposit(50)\n",
    "account.withdraw(30)\n",
    "print(account.get_balance())  # Output: 120\n"
   ]
  },
  {
   "cell_type": "code",
   "execution_count": 11,
   "id": "c544dc6a",
   "metadata": {},
   "outputs": [
    {
     "name": "stdout",
     "output_type": "stream",
     "text": [
      "you existing balance is : 10\n",
      "depositing 40 in you account.\n",
      "your new balance after deposit is  : 50\n",
      "withdrawing 40 from your account.\n",
      "your new balance after withdraw is  : 10\n"
     ]
    }
   ],
   "source": [
    "class MyBankAcount:\n",
    "    def __init__(self, balance):\n",
    "        self.balance = balance\n",
    "        print(\"you existing balance is :\", self.balance)\n",
    "\n",
    "    def deposit(self , amount):\n",
    "        if amount > 0:\n",
    "            print(\"depositing\", amount  ,\"in you account.\")\n",
    "            self.balance += amount\n",
    "            print(\"your new balance after deposit is  :\", self.balance)\n",
    "        else:\n",
    "            print(\"please add some amount to deposit\")\n",
    "        \n",
    "\n",
    "    def withdraw(self , amount):\n",
    "        if amount < self.balance:\n",
    "            print(\"withdrawing\", amount ,\"from your account.\")\n",
    "            self.balance -= amount\n",
    "            print(\"your new balance after withdraw is  :\", self.balance)\n",
    "        else:\n",
    "            print(\"Insufficient balance\")\n",
    "\n",
    "account = MyBankAcount(10)\n",
    "account.deposit(40)\n",
    "account.withdraw(40)\n",
    "        "
   ]
  },
  {
   "cell_type": "code",
   "execution_count": null,
   "id": "9addfbc2",
   "metadata": {},
   "outputs": [],
   "source": [
    "# iterator patterns\n",
    "class MyIterator:\n",
    "    def __init__(self, data):\n",
    "        self.data = data\n",
    "        self.index = 0\n",
    "\n",
    "    def __iter__(self):\n",
    "        return self\n",
    "\n",
    "    def __next__(self):\n",
    "        if self.index < len(self.data):\n",
    "            result = self.data[self.index]\n",
    "            self.index += 1\n",
    "            return result\n",
    "        else:\n",
    "            raise StopIteration\n",
    "\n",
    "# Example usage\n",
    "my_list = [1, 2, 3, 4]\n",
    "iterator = MyIterator(my_list)\n",
    "for item in iterator:\n",
    "    print(item)\n"
   ]
  },
  {
   "cell_type": "code",
   "execution_count": null,
   "id": "58ed2066",
   "metadata": {},
   "outputs": [],
   "source": [
    "#factory methon pattern\n",
    "class Animal:\n",
    "    def speak(self):\n",
    "        pass\n",
    "\n",
    "class Dog(Animal):\n",
    "    def speak(self):\n",
    "        return \"Bark\"\n",
    "\n",
    "class Cat(Animal):\n",
    "    def speak(self):\n",
    "        return \"Meow\"\n",
    "\n",
    "class AnimalFactory:\n",
    "    def create_animal(self, animal_type):\n",
    "        if animal_type == \"dog\":\n",
    "            return Dog()\n",
    "        elif animal_type == \"cat\":\n",
    "            return Cat()\n",
    "        else:\n",
    "            return None\n",
    "\n",
    "# Example usage\n",
    "factory = AnimalFactory()\n",
    "dog = factory.create_animal(\"dog\")\n",
    "cat = factory.create_animal(\"cat\")\n",
    "print(dog.speak())  # Output: Bark\n",
    "print(cat.speak())  # Output: Meow\n"
   ]
  },
  {
   "cell_type": "code",
   "execution_count": null,
   "id": "2115014b",
   "metadata": {},
   "outputs": [],
   "source": [
    "# Class: CreditCard\n",
    "# Fields:\n",
    "# - customer\n",
    "# - bank\n",
    "# - balance\n",
    "# - limit\n",
    "\n",
    "# Behaviors:\n",
    "# - get_customer()\n",
    "# - get_bank()\n",
    "# - get_balance()\n",
    "# - get_limit()\n",
    "# - make_payment(amount)\n",
    "# - charge(price)\n"
   ]
  },
  {
   "cell_type": "code",
   "execution_count": null,
   "id": "4b347c47",
   "metadata": {},
   "outputs": [],
   "source": [
    "# example of good coding style\n",
    "class CreditCard:\n",
    "    \"\"\"A consumer credit card.\"\"\"\n",
    "\n",
    "    def __init__(self, customer, bank, account, limit):\n",
    "        \"\"\"Create a new credit card instance.\n",
    "\n",
    "        The initial balance is zero.\n",
    "\n",
    "        customer  the name of the customer (e.g., 'John Bowman')\n",
    "        bank      the name of the bank (e.g., 'California Savings')\n",
    "        account   the account identifier (e.g., '5391 0375 9387 5309')\n",
    "        limit     credit limit (measured in dollars)\n",
    "        \"\"\"\n",
    "        self._customer = customer\n",
    "        self._bank = bank\n",
    "        self._account = account\n",
    "        self._limit = limit\n",
    "        self._balance = 0\n",
    "\n",
    "    def get_customer(self):\n",
    "        \"\"\"Return name of the customer.\"\"\"\n",
    "        return self._customer\n",
    "\n",
    "    def get_bank(self):\n",
    "        \"\"\"Return the bank's name.\"\"\"\n",
    "        return self._bank\n",
    "\n",
    "    def get_account(self):\n",
    "        \"\"\"Return the card identifying number (typically stored as a string).\"\"\"\n",
    "        return self._account\n",
    "\n",
    "    def get_limit(self):\n",
    "        \"\"\"Return current credit limit.\"\"\"\n",
    "        return self._limit\n",
    "\n",
    "    def get_balance(self):\n",
    "        \"\"\"Return current balance.\"\"\"\n",
    "        return self._balance\n",
    "\n",
    "    def charge(self, price):\n",
    "        \"\"\"Charge given price to the card, assuming sufficient credit limit.\n",
    "\n",
    "        Return True if charge was processed; False if charge was denied.\n",
    "        \"\"\"\n",
    "        if price + self._balance > self._limit:\n",
    "            return False\n",
    "        else:\n",
    "            self._balance += price\n",
    "            return True\n",
    "\n",
    "    def make_payment(self, amount):\n",
    "        \"\"\"Process customer payment that reduces balance.\"\"\"\n",
    "        self._balance -= amount\n"
   ]
  },
  {
   "cell_type": "code",
   "execution_count": 3,
   "id": "1819c461",
   "metadata": {},
   "outputs": [
    {
     "name": "stdout",
     "output_type": "stream",
     "text": [
      "Help on function scale in module __main__:\n",
      "\n",
      "scale(data, factor)\n",
      "    Multiply all entries of numeric data list by the given factor.\n",
      "\n"
     ]
    }
   ],
   "source": [
    "def scale(data, factor):\n",
    "    \"\"\"Multiply all entries of numeric data list by the given factor.\"\"\"\n",
    "    for j in range(len(data)):\n",
    "        data[j] *= factor\n",
    "\n",
    "help(scale)\n"
   ]
  },
  {
   "cell_type": "code",
   "execution_count": 4,
   "id": "75798c22",
   "metadata": {},
   "outputs": [
    {
     "name": "stderr",
     "output_type": "stream",
     "text": [
      "usage: ipykernel_launcher.py [-h] [-v] [-q] [--locals] [-f] [-c] [-b]\n",
      "                             [-k TESTNAMEPATTERNS]\n",
      "                             [tests ...]\n",
      "ipykernel_launcher.py: error: argument -f/--failfast: ignored explicit argument 'c:\\\\Users\\\\hp\\\\AppData\\\\Roaming\\\\jupyter\\\\runtime\\\\kernel-v3ba3e3e5436499f5cec2da6f83a3dec6122c74652.json'\n"
     ]
    },
    {
     "ename": "SystemExit",
     "evalue": "2",
     "output_type": "error",
     "traceback": [
      "An exception has occurred, use %tb to see the full traceback.\n",
      "\u001b[1;31mSystemExit\u001b[0m\u001b[1;31m:\u001b[0m 2\n"
     ]
    },
    {
     "name": "stderr",
     "output_type": "stream",
     "text": [
      "C:\\Users\\hp\\AppData\\Roaming\\Python\\Python311\\site-packages\\IPython\\core\\interactiveshell.py:3585: UserWarning: To exit: use 'exit', 'quit', or Ctrl-D.\n",
      "  warn(\"To exit: use 'exit', 'quit', or Ctrl-D.\", stacklevel=1)\n"
     ]
    }
   ],
   "source": [
    "import unittest\n",
    "\n",
    "def add(a, b):\n",
    "    return a + b\n",
    "\n",
    "class TestMathOperations(unittest.TestCase):\n",
    "    def test_add(self):\n",
    "        self.assertEqual(add(2, 3), 5)\n",
    "        self.assertEqual(add(-1, 1), 0)\n",
    "        self.assertEqual(add(0, 0), 0)\n",
    "\n",
    "if __name__ == '__main__':\n",
    "    unittest.main()\n"
   ]
  },
  {
   "cell_type": "code",
   "execution_count": 12,
   "id": "5abedc40",
   "metadata": {},
   "outputs": [
    {
     "name": "stdout",
     "output_type": "stream",
     "text": [
      "3\n",
      "error is rased please checkout The first number should be greater than the second number\n",
      "None\n"
     ]
    }
   ],
   "source": [
    "class Test:\n",
    "    def __init__(self, num1, num2):\n",
    "        self.num1 = num1\n",
    "        self.num2 = num2\n",
    "\n",
    "    def add(self):\n",
    "        if self.num1 > 0 and self.num2 > 0:\n",
    "            return self.num1 + self.num2\n",
    "        else:\n",
    "            print(\"Please add numbers greater than zero\")\n",
    "\n",
    "    def subtract(self):\n",
    "        try:\n",
    "            if self.num1 < self.num2:\n",
    "                raise ValueError(\"The first number should be greater than the second number\")\n",
    "            return self.num1 - self.num2\n",
    "        except ValueError as e:\n",
    "            print(\"error is rased please checkout\" , e)\n",
    "\n",
    "# Example usage\n",
    "testing = Test(1, 2)\n",
    "print(testing.add())  # Outputs: Please add numbers greater than zero\n",
    "print(testing.subtract())  # Outputs: The first number should be greater than the second number\n"
   ]
  },
  {
   "cell_type": "code",
   "execution_count": 13,
   "id": "3cb83356",
   "metadata": {},
   "outputs": [
    {
     "name": "stdout",
     "output_type": "stream",
     "text": [
      "Customer = John Bowman\n",
      "Bank = California Savings\n",
      "Account = 5391037593875309\n",
      "Limit = 2500\n",
      "Balance = 136\n",
      "New balance = 36\n",
      "\n",
      "Customer = John Bowman\n",
      "Bank = California Federal\n",
      "Account = 3485039933951954\n",
      "Limit = 3500\n",
      "Balance = 272\n",
      "New balance = 172\n",
      "New balance = 72\n",
      "\n",
      "Customer = John Bowman\n",
      "Bank = California Finance\n",
      "Account = 5391037593875309\n",
      "Limit = 5000\n",
      "Balance = 408\n",
      "New balance = 308\n",
      "New balance = 208\n",
      "New balance = 108\n",
      "New balance = 8\n",
      "\n"
     ]
    }
   ],
   "source": [
    "class CreditCard:\n",
    "    \"\"\"A consumer credit card.\"\"\"\n",
    "\n",
    "    def __init__(self, customer, bank, acnt, limit):\n",
    "        \"\"\"Create a new credit card instance.\n",
    "\n",
    "        The initial balance is zero.\n",
    "\n",
    "        customer  the name of the customer (e.g., 'John Bowman')\n",
    "        bank      the name of the bank (e.g., 'California Savings')\n",
    "        acnt      the account identifier (e.g., '5391 0375 9387 5309')\n",
    "        limit     credit limit (measured in dollars)\n",
    "        \"\"\"\n",
    "        self._customer = customer\n",
    "        self._bank = bank\n",
    "        self._account = acnt\n",
    "        self._limit = limit\n",
    "        self._balance = 0\n",
    "\n",
    "    def get_customer(self):\n",
    "        \"\"\"Return name of the customer.\"\"\"\n",
    "        return self._customer\n",
    "\n",
    "    def get_bank(self):\n",
    "        \"\"\"Return the bank's name.\"\"\"\n",
    "        return self._bank\n",
    "\n",
    "    def get_account(self):\n",
    "        \"\"\"Return the card identifying number (typically stored as a string).\"\"\"\n",
    "        return self._account\n",
    "\n",
    "    def get_limit(self):\n",
    "        \"\"\"Return current credit limit.\"\"\"\n",
    "        return self._limit\n",
    "\n",
    "    def get_balance(self):\n",
    "        \"\"\"Return current balance.\"\"\"\n",
    "        return self._balance\n",
    "\n",
    "    def charge(self, price):\n",
    "        \"\"\"Charge given price to the card, assuming sufficient credit limit.\n",
    "\n",
    "        Return True if charge was processed; False if charge was denied.\n",
    "        \"\"\"\n",
    "        if price + self._balance > self._limit:\n",
    "            return False  # cannot accept charge\n",
    "        else:\n",
    "            self._balance += price\n",
    "            return True\n",
    "\n",
    "    def make_payment(self, amount):\n",
    "        \"\"\"Process customer payment that reduces balance.\"\"\"\n",
    "        self._balance -= amount\n",
    "if __name__ == \"__main__\":\n",
    "    wallet = []\n",
    "    wallet.append(CreditCard(\"John Bowman\", \"California Savings\", \"5391037593875309\", 2500))\n",
    "    wallet.append(CreditCard(\"John Bowman\", \"California Federal\", \"3485039933951954\", 3500))\n",
    "    wallet.append(CreditCard(\"John Bowman\", \"California Finance\", \"5391037593875309\", 5000))\n",
    "\n",
    "    for val in range(1, 17):\n",
    "        wallet[0].charge(val)\n",
    "        wallet[1].charge(2 * val)\n",
    "        wallet[2].charge(3 * val)\n",
    "\n",
    "    for c in range(3):\n",
    "        print(\"Customer =\", wallet[c].get_customer())\n",
    "        print(\"Bank =\", wallet[c].get_bank())\n",
    "        print(\"Account =\", wallet[c].get_account())\n",
    "        print(\"Limit =\", wallet[c].get_limit())\n",
    "        print(\"Balance =\", wallet[c].get_balance())\n",
    "        while wallet[c].get_balance() > 100:\n",
    "            wallet[c].make_payment(100)\n",
    "            print(\"New balance =\", wallet[c].get_balance())\n",
    "        print()\n"
   ]
  },
  {
   "cell_type": "code",
   "execution_count": 16,
   "id": "6a223bc8",
   "metadata": {},
   "outputs": [
    {
     "name": "stdout",
     "output_type": "stream",
     "text": [
      "Vector(6, 8)\n"
     ]
    }
   ],
   "source": [
    "class Vector:\n",
    "    def __init__(self, x, y):\n",
    "        self.x = x\n",
    "        self.y = y\n",
    "\n",
    "    def __add__(self, other):\n",
    "        return Vector(self.x + other.x, self.y + other.y)\n",
    "\n",
    "    def __str__(self):\n",
    "        return f\"Vector({self.x}, {self.y})\"\n",
    "\n",
    "# Example usage\n",
    "v1 = Vector(2, 3)\n",
    "v2 = Vector(4, 5)\n",
    "v3 = v1 + v2\n",
    "print(v3)  # Output: Vector(6, 8)\n"
   ]
  },
  {
   "cell_type": "code",
   "execution_count": 19,
   "id": "8b3c862a",
   "metadata": {},
   "outputs": [
    {
     "name": "stdout",
     "output_type": "stream",
     "text": [
      "Alice, 30 years old\n",
      "Person(name=Alice, age=30)\n"
     ]
    }
   ],
   "source": [
    "class Person:\n",
    "    def __init__(self, name, age):\n",
    "        self.name = name\n",
    "        self.age = age\n",
    "\n",
    "    def __str__(self):\n",
    "        return f\"{self.name}, {self.age} years old\"\n",
    "\n",
    "    def __repr__(self):\n",
    "        return f\"Person(name={self.name}, age={self.age})\"\n",
    "\n",
    "# Example usage\n",
    "p = Person(\"Alice\", 30)\n",
    "print(str(p))  # Output: Alice, 30 years old\n",
    "print(repr(p))  # Output: Person(name=Alice, age=30)\n"
   ]
  },
  {
   "cell_type": "code",
   "execution_count": 23,
   "id": "9e124adb",
   "metadata": {},
   "outputs": [
    {
     "name": "stdout",
     "output_type": "stream",
     "text": [
      "priniting _coords [0, 0, 0, 0, 0]\n",
      "45\n",
      "priniting _coords [0, 0, 0, 0, 0]\n",
      "<0, 46, 0, 0, 90>\n",
      "68\n"
     ]
    }
   ],
   "source": [
    "class Vector:\n",
    "    \"\"\"Represent a vector in a multidimensional space.\"\"\"\n",
    "\n",
    "    def __init__(self, d):\n",
    "        \"\"\"Create a d-dimensional vector of zeros.\"\"\"\n",
    "        self._coords = [0] * d\n",
    "        print(\"priniting _coords\", self._coords)\n",
    "    def __len__(self):\n",
    "        \"\"\"Return the dimension of the vector.\"\"\"\n",
    "        # print(\"print\", len(self._coords)\n",
    "        return len(self._coords)\n",
    "\n",
    "    def __getitem__(self, j):\n",
    "        \"\"\"Return jth coordinate of vector.\"\"\"\n",
    "        return self._coords[j]\n",
    "\n",
    "    def __setitem__(self, j, val):\n",
    "        \"\"\"Set jth coordinate of vector to given value.\"\"\"\n",
    "        self._coords[j] = val\n",
    "\n",
    "    def __add__(self, other):\n",
    "        \"\"\"Return sum of two vectors.\"\"\"\n",
    "        if len(self) != len(other):  # relies on __len__ method\n",
    "            raise ValueError(\"dimensions must agree\")\n",
    "        result = Vector(len(self))  # start with vector of zeros\n",
    "        for j in range(len(self)):\n",
    "            result[j] = self[j] + other[j]\n",
    "        return result\n",
    "\n",
    "    def __eq__(self, other):\n",
    "        \"\"\"Return True if vector has same coordinates as other.\"\"\"\n",
    "        return self._coords == other._coords\n",
    "\n",
    "    def __ne__(self, other):\n",
    "        \"\"\"Return True if vector differs from other.\"\"\"\n",
    "        return not self == other  # rely on existing __eq__ definition\n",
    "\n",
    "    def __str__(self):\n",
    "        \"\"\"Produce string representation of vector.\"\"\"\n",
    "        return f\"<{str(self._coords)[1:-1]}>\"\n",
    "\n",
    "# Example usage\n",
    "v = Vector(5)\n",
    "\n",
    "v[1] = 23\n",
    "v[-1] = 45\n",
    "print(v[4])  # Output: 0\n",
    "u = v + v\n",
    "print(u)  # Output: <0, 46, 0, 0, 90>\n",
    "total = sum(v)\n",
    "print(total)  # Output: 68\n"
   ]
  },
  {
   "cell_type": "markdown",
   "id": "217fcb31",
   "metadata": {},
   "source": [
    "iterations"
   ]
  },
  {
   "cell_type": "code",
   "execution_count": null,
   "id": "2ef9b570",
   "metadata": {},
   "outputs": [],
   "source": [
    "class SequenceIterator:\n",
    "    \"\"\"An iterator for any of Python's sequence types.\"\"\"\n",
    "\n",
    "    def __init__(self, sequence):\n",
    "        \"\"\"Create an iterator for the given sequence.\"\"\"\n",
    "        self._seq = sequence  # keep a reference to the underlying data\n",
    "        self._k = -1  # will increment to 0 on first call to next\n",
    "\n",
    "    def __next__(self):\n",
    "        \"\"\"Return the next element, or else raise StopIteration error.\"\"\"\n",
    "        self._k += 1  # advance to next index\n",
    "        if self._k < len(self._seq):\n",
    "            return self._seq[self._k]  # return the data element\n",
    "        else:\n",
    "            raise StopIteration()  # there are no more elements\n",
    "\n",
    "    def __iter__(self):\n",
    "        \"\"\"By convention, an iterator must return itself as an iterator.\"\"\"\n",
    "        return self\n"
   ]
  },
  {
   "cell_type": "code",
   "execution_count": null,
   "id": "607f7e5a",
   "metadata": {},
   "outputs": [],
   "source": [
    "data = [1, 2, 3, 4, 5]\n",
    "iterator = SequenceIterator(data)\n",
    "\n",
    "for item in iterator:\n",
    "    print(item)\n"
   ]
  },
  {
   "cell_type": "code",
   "execution_count": null,
   "id": "b9874bb6",
   "metadata": {},
   "outputs": [],
   "source": [
    "def sequence_generator(sequence):\n",
    "    for item in sequence:\n",
    "        yield item\n",
    "\n",
    "# Example usage\n",
    "data = [1, 2, 3, 4, 5]\n",
    "for item in sequence_generator(data):\n",
    "    print(item)\n"
   ]
  },
  {
   "cell_type": "markdown",
   "id": "a29414eb",
   "metadata": {},
   "source": [
    "range classes"
   ]
  },
  {
   "cell_type": "code",
   "execution_count": null,
   "id": "079ac487",
   "metadata": {},
   "outputs": [],
   "source": [
    "class Range:\n",
    "    \"\"\"A class that mimics the built-in range class.\"\"\"\n",
    "    def __init__(self, start, stop=None, step=1):\n",
    "        \"\"\"Initialize a Range instance.\n",
    "\n",
    "        Semantics is similar to built-in range class.\n",
    "        \"\"\"\n",
    "        if step == 0:\n",
    "            raise ValueError(\"step cannot be 0\")\n",
    "\n",
    "        if stop is None:  # special case of range(n)\n",
    "            start, stop = 0, start  # should be treated as range(0, n)\n",
    "\n",
    "        # calculate the effective length once\n",
    "        self._length = max(0, (stop - start + step - 1) // step)\n",
    "\n",
    "        # need knowledge of start and step (but not stop) to support __getitem__\n",
    "        self._start = start\n",
    "        self._step = step\n",
    "    def __len__(self):\n",
    "        \"\"\"Return number of entries in the range.\"\"\"\n",
    "        return self._length\n",
    "    def __getitem__(self, k):\n",
    "        \"\"\"Return entry at index k (using standard interpretation if negative).\"\"\"\n",
    "        if k < 0:\n",
    "            k += len(self)  # attempt to convert negative index\n",
    "\n",
    "        if not 0 <= k < self._length:\n",
    "            raise IndexError(\"index out of range\")\n",
    "\n",
    "        return self._start + k * self._step\n",
    "r = Range(8, 140, 5)\n",
    "print(len(r))  # Output: 27\n",
    "print(r[15])  # Output: 83 ok\n",
    "\n",
    "for value in r:\n",
    "    print(value, end=' ')\n"
   ]
  }
 ],
 "metadata": {
  "kernelspec": {
   "display_name": "Python 3",
   "language": "python",
   "name": "python3"
  },
  "language_info": {
   "codemirror_mode": {
    "name": "ipython",
    "version": 3
   },
   "file_extension": ".py",
   "mimetype": "text/x-python",
   "name": "python",
   "nbconvert_exporter": "python",
   "pygments_lexer": "ipython3",
   "version": "3.11.0"
  }
 },
 "nbformat": 4,
 "nbformat_minor": 5
}
