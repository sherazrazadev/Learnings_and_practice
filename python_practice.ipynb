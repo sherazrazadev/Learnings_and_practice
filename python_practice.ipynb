{
 "cells": [
  {
   "cell_type": "code",
   "execution_count": 1,
   "id": "7631b715-1bf6-4c79-b6ff-0ee2be0de038",
   "metadata": {},
   "outputs": [
    {
     "data": {
      "text/plain": [
       "[['here', 4], ['is', 2], ['a', 1], ['sentences', 9]]"
      ]
     },
     "execution_count": 1,
     "metadata": {},
     "output_type": "execute_result"
    }
   ],
   "source": [
    "words = \"here is a sentences\".split()\n",
    "[[word, len(word)] for word in words]\n"
   ]
  },
  {
   "cell_type": "code",
   "execution_count": 8,
   "id": "8d8f3b47-c1ef-4a61-9f85-a5897143ab3d",
   "metadata": {},
   "outputs": [
    {
     "data": {
      "text/plain": [
       "'hello world'"
      ]
     },
     "execution_count": 8,
     "metadata": {},
     "output_type": "execute_result"
    }
   ],
   "source": [
    "def greeting(language):\n",
    "    if language== 'eng':\n",
    "        return 'hello world'\n",
    "    if language == 'fr':\n",
    "        return 'Bonjour le monde'\n",
    "    else: return 'language not supported'\n",
    "\n",
    "greeting('eng')"
   ]
  },
  {
   "cell_type": "code",
   "execution_count": 9,
   "id": "607cc469-3dc5-4f5a-8d23-bedd2a72ccf9",
   "metadata": {},
   "outputs": [
    {
     "data": {
      "text/plain": [
       "'Bonjour le monde'"
      ]
     },
     "execution_count": 9,
     "metadata": {},
     "output_type": "execute_result"
    }
   ],
   "source": [
    "def greeting(language):\n",
    "    if language== 'eng':\n",
    "        return 'hello world'\n",
    "    if language == 'fr':\n",
    "        return 'Bonjour le monde'\n",
    "    else: return 'language not supported'\n",
    "\n",
    "l = [greeting('eng'), greeting('fr') , greeting('ger')]\n",
    "l[1]\n"
   ]
  },
  {
   "cell_type": "code",
   "execution_count": 12,
   "id": "3216abb5-7564-4eb5-89fb-7d31e4380d95",
   "metadata": {},
   "outputs": [
    {
     "data": {
      "text/plain": [
       "<generator object <genexpr> at 0x000002B6C13F5A80>"
      ]
     },
     "execution_count": 12,
     "metadata": {},
     "output_type": "execute_result"
    }
   ],
   "source": [
    "list1 = [1, 2,3,4]\n",
    "gen1 = (10**i for i in list1)\n",
    "gen1"
   ]
  },
  {
   "cell_type": "code",
   "execution_count": 13,
   "id": "4e8cc7a5-9bd3-4f79-a28f-f43ce8e725e0",
   "metadata": {},
   "outputs": [
    {
     "name": "stdout",
     "output_type": "stream",
     "text": [
      "10\n",
      "100\n",
      "1000\n",
      "10000\n"
     ]
    }
   ],
   "source": [
    "for x in gen1: print(x)"
   ]
  },
  {
   "cell_type": "code",
   "execution_count": 5,
   "id": "ab37c50f-cc73-40f0-98c6-dee25deb1276",
   "metadata": {},
   "outputs": [
    {
     "name": "stdout",
     "output_type": "stream",
     "text": [
      "Bark\n",
      "Meow\n"
     ]
    }
   ],
   "source": [
    "\n",
    "# Abstraction\n",
    "from abc import ABC, abstractmethod\n",
    "\n",
    "class Animal(ABC):\n",
    "    @abstractmethod\n",
    "    def sound(self):\n",
    "        pass\n",
    "\n",
    "class Dog(Animal):\n",
    "    def sound(self):\n",
    "        return \"Bark\"\n",
    "\n",
    "class Cat(Animal):\n",
    "    def sound(self):\n",
    "        return \"Meow\"\n",
    "\n",
    "# Example usage\n",
    "dog = Dog()\n",
    "cat = Cat()\n",
    "print(dog.sound())  # Output: Bark\n",
    "print(cat.sound())  # Output: Meow\n"
   ]
  },
  {
   "cell_type": "code",
   "execution_count": 6,
   "id": "5d28c320",
   "metadata": {},
   "outputs": [
    {
     "name": "stdout",
     "output_type": "stream",
     "text": [
      "120\n"
     ]
    }
   ],
   "source": [
    "#encapsulation\n",
    "\n",
    "class BankAccount:\n",
    "    def __init__(self, balance):\n",
    "        self.__balance = balance  # Private attribute\n",
    "\n",
    "    def deposit(self, amount):\n",
    "        if amount > 0:\n",
    "            self.__balance += amount\n",
    "\n",
    "    def withdraw(self, amount):\n",
    "        if 0 < amount <= self.__balance:\n",
    "            self.__balance -= amount\n",
    "\n",
    "    def get_balance(self):\n",
    "        return self.__balance\n",
    "\n",
    "# Example usage\n",
    "account = BankAccount(100)\n",
    "account.deposit(50)\n",
    "account.withdraw(30)\n",
    "print(account.get_balance())  # Output: 120\n"
   ]
  },
  {
   "cell_type": "code",
   "execution_count": 11,
   "id": "c544dc6a",
   "metadata": {},
   "outputs": [
    {
     "name": "stdout",
     "output_type": "stream",
     "text": [
      "you existing balance is : 10\n",
      "depositing 40 in you account.\n",
      "your new balance after deposit is  : 50\n",
      "withdrawing 40 from your account.\n",
      "your new balance after withdraw is  : 10\n"
     ]
    }
   ],
   "source": [
    "class MyBankAcount:\n",
    "    def __init__(self, balance):\n",
    "        self.balance = balance\n",
    "        print(\"you existing balance is :\", self.balance)\n",
    "\n",
    "    def deposit(self , amount):\n",
    "        if amount > 0:\n",
    "            print(\"depositing\", amount  ,\"in you account.\")\n",
    "            self.balance += amount\n",
    "            print(\"your new balance after deposit is  :\", self.balance)\n",
    "        else:\n",
    "            print(\"please add some amount to deposit\")\n",
    "        \n",
    "\n",
    "    def withdraw(self , amount):\n",
    "        if amount < self.balance:\n",
    "            print(\"withdrawing\", amount ,\"from your account.\")\n",
    "            self.balance -= amount\n",
    "            print(\"your new balance after withdraw is  :\", self.balance)\n",
    "        else:\n",
    "            print(\"Insufficient balance\")\n",
    "\n",
    "account = MyBankAcount(10)\n",
    "account.deposit(40)\n",
    "account.withdraw(40)\n",
    "        "
   ]
  },
  {
   "cell_type": "code",
   "execution_count": null,
   "id": "9addfbc2",
   "metadata": {},
   "outputs": [],
   "source": [
    "# iterator patterns\n",
    "class MyIterator:\n",
    "    def __init__(self, data):\n",
    "        self.data = data\n",
    "        self.index = 0\n",
    "\n",
    "    def __iter__(self):\n",
    "        return self\n",
    "\n",
    "    def __next__(self):\n",
    "        if self.index < len(self.data):\n",
    "            result = self.data[self.index]\n",
    "            self.index += 1\n",
    "            return result\n",
    "        else:\n",
    "            raise StopIteration\n",
    "\n",
    "# Example usage\n",
    "my_list = [1, 2, 3, 4]\n",
    "iterator = MyIterator(my_list)\n",
    "for item in iterator:\n",
    "    print(item)\n"
   ]
  },
  {
   "cell_type": "code",
   "execution_count": null,
   "id": "58ed2066",
   "metadata": {},
   "outputs": [],
   "source": [
    "#factory methon pattern\n",
    "class Animal:\n",
    "    def speak(self):\n",
    "        pass\n",
    "\n",
    "class Dog(Animal):\n",
    "    def speak(self):\n",
    "        return \"Bark\"\n",
    "\n",
    "class Cat(Animal):\n",
    "    def speak(self):\n",
    "        return \"Meow\"\n",
    "\n",
    "class AnimalFactory:\n",
    "    def create_animal(self, animal_type):\n",
    "        if animal_type == \"dog\":\n",
    "            return Dog()\n",
    "        elif animal_type == \"cat\":\n",
    "            return Cat()\n",
    "        else:\n",
    "            return None\n",
    "\n",
    "# Example usage\n",
    "factory = AnimalFactory()\n",
    "dog = factory.create_animal(\"dog\")\n",
    "cat = factory.create_animal(\"cat\")\n",
    "print(dog.speak())  # Output: Bark\n",
    "print(cat.speak())  # Output: Meow\n"
   ]
  },
  {
   "cell_type": "code",
   "execution_count": null,
   "id": "2115014b",
   "metadata": {},
   "outputs": [],
   "source": [
    "# Class: CreditCard\n",
    "# Fields:\n",
    "# - customer\n",
    "# - bank\n",
    "# - balance\n",
    "# - limit\n",
    "\n",
    "# Behaviors:\n",
    "# - get_customer()\n",
    "# - get_bank()\n",
    "# - get_balance()\n",
    "# - get_limit()\n",
    "# - make_payment(amount)\n",
    "# - charge(price)\n"
   ]
  }
 ],
 "metadata": {
  "kernelspec": {
   "display_name": "jupyter",
   "language": "python",
   "name": "python3"
  },
  "language_info": {
   "codemirror_mode": {
    "name": "ipython",
    "version": 3
   },
   "file_extension": ".py",
   "mimetype": "text/x-python",
   "name": "python",
   "nbconvert_exporter": "python",
   "pygments_lexer": "ipython3",
   "version": "3.10.0"
  }
 },
 "nbformat": 4,
 "nbformat_minor": 5
}
