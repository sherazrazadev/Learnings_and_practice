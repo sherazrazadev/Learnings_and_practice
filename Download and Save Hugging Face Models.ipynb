{
 "cells": [
  {
   "cell_type": "markdown",
   "id": "38f0aae3",
   "metadata": {},
   "source": [
    "## Install & Import Packages"
   ]
  },
  {
   "cell_type": "code",
   "execution_count": null,
   "id": "3482fa38",
   "metadata": {},
   "outputs": [],
   "source": [
    "#pytorch #transformers"
   ]
  },
  {
   "cell_type": "code",
   "execution_count": 1,
   "id": "d115fd83",
   "metadata": {},
   "outputs": [],
   "source": [
    "import torch\n",
    "from transformers import AutoModelForCausalLM, AutoTokenizer"
   ]
  },
  {
   "cell_type": "markdown",
   "id": "0f035b67",
   "metadata": {},
   "source": [
    "## Download Tokenizer & save"
   ]
  },
  {
   "cell_type": "code",
   "execution_count": 2,
   "id": "423f8499",
   "metadata": {},
   "outputs": [],
   "source": [
    "model_name=\"microsoft/phi-2\""
   ]
  },
  {
   "cell_type": "code",
   "execution_count": 3,
   "id": "7d1bd106",
   "metadata": {},
   "outputs": [
    {
     "name": "stderr",
     "output_type": "stream",
     "text": [
      "Special tokens have been added in the vocabulary, make sure the associated word embeddings are fine-tuned or trained.\n"
     ]
    },
    {
     "data": {
      "text/plain": [
       "('cache1/tokenizer/microsoft/phi-2\\\\tokenizer_config.json',\n",
       " 'cache1/tokenizer/microsoft/phi-2\\\\special_tokens_map.json',\n",
       " 'cache1/tokenizer/microsoft/phi-2\\\\vocab.json',\n",
       " 'cache1/tokenizer/microsoft/phi-2\\\\merges.txt',\n",
       " 'cache1/tokenizer/microsoft/phi-2\\\\added_tokens.json',\n",
       " 'cache1/tokenizer/microsoft/phi-2\\\\tokenizer.json')"
      ]
     },
     "execution_count": 3,
     "metadata": {},
     "output_type": "execute_result"
    }
   ],
   "source": [
    "tokenizer = AutoTokenizer.from_pretrained(model_name)\n",
    "tokenizer.save_pretrained(f\"cache1/tokenizer/{model_name}\")"
   ]
  },
  {
   "cell_type": "markdown",
   "id": "90b2767e",
   "metadata": {},
   "source": [
    "## Download Model & Save"
   ]
  },
  {
   "cell_type": "code",
   "execution_count": 4,
   "id": "b292aeb4",
   "metadata": {},
   "outputs": [
    {
     "data": {
      "application/vnd.jupyter.widget-view+json": {
       "model_id": "b72eaea3034e49528b04eeda072c2f28",
       "version_major": 2,
       "version_minor": 0
      },
      "text/plain": [
       "Loading checkpoint shards:   0%|          | 0/2 [00:00<?, ?it/s]"
      ]
     },
     "metadata": {},
     "output_type": "display_data"
    }
   ],
   "source": [
    "model = AutoModelForCausalLM.from_pretrained(model_name)\n",
    "model.save_pretrained(f\"cache1/model/{model_name}\")"
   ]
  },
  {
   "cell_type": "markdown",
   "id": "df09aded",
   "metadata": {},
   "source": [
    "## Load saved model & tokenizer"
   ]
  },
  {
   "cell_type": "code",
   "execution_count": 5,
   "id": "b82a565b",
   "metadata": {},
   "outputs": [
    {
     "name": "stderr",
     "output_type": "stream",
     "text": [
      "Special tokens have been added in the vocabulary, make sure the associated word embeddings are fine-tuned or trained.\n"
     ]
    },
    {
     "data": {
      "application/vnd.jupyter.widget-view+json": {
       "model_id": "e9ccaa528f0247b58102013ae3b55102",
       "version_major": 2,
       "version_minor": 0
      },
      "text/plain": [
       "Loading checkpoint shards:   0%|          | 0/3 [00:00<?, ?it/s]"
      ]
     },
     "metadata": {},
     "output_type": "display_data"
    }
   ],
   "source": [
    "tokenizer = AutoTokenizer.from_pretrained(f\"cache1/tokenizer/{model_name}\")\n",
    "model = AutoModelForCausalLM.from_pretrained(f\"cache1/model/{model_name}\")"
   ]
  },
  {
   "cell_type": "code",
   "execution_count": 9,
   "id": "29905637",
   "metadata": {},
   "outputs": [
    {
     "name": "stdout",
     "output_type": "stream",
     "text": [
      "<bos>Write a poem about Machine Learning.\n",
      "\n",
      "Answer:\n",
      "\n",
      "Step 1/2\n",
      "Machine Learning is a powerful tool that can help us make sense of the world around us. It can analyze vast amounts of data and make predictions based on that data. It can also learn from our own actions and behaviors, and adapt to our changing needs\n"
     ]
    }
   ],
   "source": [
    "input_text = \"Write a poem about Machine Learning.\"\n",
    "input_ids = tokenizer(input_text, return_tensors=\"pt\")\n",
    "\n",
    "outputs = model.generate(**input_ids, max_new_tokens= 60)\n",
    "print(tokenizer.decode(outputs[0]))\n"
   ]
  },
  {
   "cell_type": "code",
   "execution_count": null,
   "id": "c22d8d1d",
   "metadata": {},
   "outputs": [],
   "source": []
  }
 ],
 "metadata": {
  "kernelspec": {
   "display_name": "Python 3 (ipykernel)",
   "language": "python",
   "name": "python3"
  },
  "language_info": {
   "codemirror_mode": {
    "name": "ipython",
    "version": 3
   },
   "file_extension": ".py",
   "mimetype": "text/x-python",
   "name": "python",
   "nbconvert_exporter": "python",
   "pygments_lexer": "ipython3",
   "version": "3.10.6"
  }
 },
 "nbformat": 4,
 "nbformat_minor": 5
}
